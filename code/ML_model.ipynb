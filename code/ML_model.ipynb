{
 "cells": [
  {
   "cell_type": "code",
   "execution_count": null,
   "metadata": {},
   "outputs": [],
   "source": [
    "import tensorflow as tf\n",
    "import numpy as np\n",
    "import matplotlib.pyplot as plt\n",
    "import keras.models\n",
    "from keras.models import Sequential"
   ]
  },
  {
   "cell_type": "code",
   "execution_count": null,
   "metadata": {},
   "outputs": [],
   "source": [
    "#load data\n",
    "loadname='./data_for_ML/WSS_sample 1.txt'\n",
    "a1 = np.loadtxt(loadname)\n",
    "loadname='./data_for_ML/WSS_sample 2.txt'\n",
    "a2 = np.loadtxt(loadname)\n",
    "loadname='./data_for_ML/WSS_sample 3.txt'\n",
    "a3 = np.loadtxt(loadname)\n",
    "loadname='./data_for_ML/WSS_sample 4.txt'\n",
    "a4 = np.loadtxt(loadname)\n",
    "loadname='./data_for_ML/WSS_sample 5.txt'\n",
    "a5 = np.loadtxt(loadname)\n",
    "loadname='./data_for_ML/WSS_sample 6.txt'\n",
    "a6 = np.loadtxt(loadname)\n",
    "#loadname='./data_for_ML/WSS_sample 7_non_newtonian1.txt' # since for one case we consider non-newtonian data\n",
    "loadname='./data_for_ML/WSS_sample 7.txt'\n",
    "a7 = np.loadtxt(loadname)\n",
    "\n",
    "print(np.shape(a4))"
   ]
  },
  {
   "cell_type": "code",
   "execution_count": null,
   "metadata": {},
   "outputs": [],
   "source": [
    "data = np.vstack((a1,a2,a3,a4,a5,a6,a7))\n",
    "data_1 = data[:,6:9]\n",
    "data_train = np.vstack((a2,a3,a4,a5,a6,a7))\n",
    "data_train_1 = data_train[:,6:9]\n",
    "data_test = a1\n",
    "print(np.shape(data_train))\n",
    "print(np.shape(data_test))"
   ]
  },
  {
   "cell_type": "code",
   "execution_count": null,
   "metadata": {},
   "outputs": [],
   "source": [
    "data_train_p = data_train[data_train[:,-1]==1,:]#data from pruned vessels, p=pruned\n",
    "data_train_up = data_train[data_train[:,-1]==0,:]#data from unpruned vessels, up=unpruned\n",
    "print(np.shape(data_train_p))\n",
    "print(np.shape(data_train_up))\n",
    "print(data_train_up[1000,:])"
   ]
  },
  {
   "cell_type": "code",
   "execution_count": null,
   "metadata": {
    "scrolled": true
   },
   "outputs": [],
   "source": [
    "#data for training 0-2:coordinate data; 3-5:cylinder coordinate data; \n",
    "#6:local WSS(alphat); 7:vessel radius; 8:pressure drop; 9: scalar(not correct); 10: prune or not\n",
    "x_train_p = data_train_p[:,6:9]  #x is input\n",
    "x_train_up = data_train_up[:,6:9]\n",
    "x_test = data_test[:,6:9]\n",
    "\n",
    "y_train_p = data_train_p[:,10:11]  # y is output\n",
    "y_train_up = data_train_up[:,10:11]\n",
    "y_test = data_test[:,10:11]\n",
    "\n",
    "#normalization\n",
    "x_normal=abs(x_train_p)\n",
    "x_normal=x_normal.max(axis=0)\n",
    "x_train_p = x_train_p/x_normal\n",
    "x_train_up = x_train_up/x_normal\n",
    "x_test = x_test/x_normal\n",
    "\n",
    "print(np.shape(x_train_p))\n",
    "print(np.shape(y_train_p))\n",
    "print(x_normal.max(axis=0))\n",
    "print(x_train_up.max(axis=0))\n",
    "print(x_train_up.min(axis=0))\n",
    "print(x_train_p.max(axis=0))\n",
    "print(x_train_p.min(axis=0))\n",
    "print(x_test.max(axis=0))\n",
    "print(x_test.min(axis=0))"
   ]
  },
  {
   "cell_type": "code",
   "execution_count": null,
   "metadata": {
    "ExecuteTime": {
     "end_time": "2020-01-27T06:00:40.561552Z",
     "start_time": "2020-01-27T06:00:40.191781Z"
    }
   },
   "outputs": [],
   "source": [
    "index = 4000\n",
    "\n",
    "print(x_train_up[index,:])\n",
    "print(y_train_up[index,:])"
   ]
  },
  {
   "cell_type": "code",
   "execution_count": null,
   "metadata": {
    "ExecuteTime": {
     "end_time": "2020-01-27T06:22:06.666276Z",
     "start_time": "2020-01-27T06:22:06.593715Z"
    },
    "run_control": {
     "marked": true
    }
   },
   "outputs": [],
   "source": [
    "print(y_test.max(axis=0))"
   ]
  },
  {
   "cell_type": "code",
   "execution_count": null,
   "metadata": {
    "scrolled": true
   },
   "outputs": [],
   "source": [
    "rand_arr = np.arange(x_train_up.shape[0])\n",
    " \n",
    "np.random.shuffle(rand_arr)\n",
    "print(x_train_up[rand_arr[0:5]])\n",
    "print(y_train_up[rand_arr[0:5]])\n",
    "print(data_train_up[rand_arr[0:5]])\n",
    "print(y_train_p.max(axis=0))"
   ]
  },
  {
   "cell_type": "code",
   "execution_count": null,
   "metadata": {},
   "outputs": [],
   "source": [
    "def simple_linear_model(input_dim):\n",
    "    model = keras.models.Sequential()\n",
    "    model.add(keras.layers.Dense(units=1, input_dim=input_dim, activation='sigmoid'))\n",
    "    model.compile(loss='binary_crossentropy', optimizer='adam', metrics=['accuracy'])\n",
    "    return model"
   ]
  },
  {
   "cell_type": "code",
   "execution_count": null,
   "metadata": {},
   "outputs": [],
   "source": [
    "input_dim = 3  # input features\n",
    "nn = simple_linear_model(input_dim)"
   ]
  },
  {
   "cell_type": "code",
   "execution_count": null,
   "metadata": {},
   "outputs": [],
   "source": [
    "lenth_pru=len(data_train_p)\n",
    "print(lenth_pru)"
   ]
  },
  {
   "cell_type": "code",
   "execution_count": null,
   "metadata": {
    "ExecuteTime": {
     "end_time": "2020-01-27T07:25:43.553688Z",
     "start_time": "2020-01-27T07:25:13.852613Z"
    },
    "scrolled": true
   },
   "outputs": [],
   "source": [
    "#training\n",
    "loss_values=np.array([0])\n",
    "vali_loss=np.array([0])\n",
    "for i in range(200):\n",
    "    print(i)\n",
    "    rand_arr = np.arange(x_train_up.shape[0]) \n",
    "    np.random.shuffle(rand_arr)\n",
    "    ran_x_train_up = x_train_up[rand_arr[0:lenth_pru]]\n",
    "    ran_y_train_up = y_train_up[rand_arr[0:lenth_pru]]\n",
    "    x_train = np.vstack((ran_x_train_up,x_train_p))\n",
    "    y_train = np.vstack((ran_y_train_up,y_train_p))\n",
    "    cost = nn.fit(x_train, y_train, epochs=10, batch_size=60000, validation_data=(x_test, y_test), verbose=1)\n",
    "    loss_values = np.hstack((loss_values,cost.history['loss']))\n",
    "    vali_loss = np.hstack((vali_loss,cost.history['val_loss']))"
   ]
  },
  {
   "cell_type": "code",
   "execution_count": null,
   "metadata": {},
   "outputs": [],
   "source": [
    "# weights and bias\n",
    "weights, bias = nn.layers[0].get_weights()\n",
    "\n",
    "# Flatten weights to 1D array and format each element to 8 decimal places\n",
    "formatted_weights = [\"{:.8f}\".format(w) for w in weights.flatten()]\n",
    "formatted_bias = \"{:.8f}\".format(bias[0])\n",
    "\n",
    "# Print weights and bias\n",
    "print(\"Weights (coefficients):\", formatted_weights)\n",
    "print(\"Bias (intercept):\", formatted_bias)"
   ]
  },
  {
   "cell_type": "code",
   "execution_count": null,
   "metadata": {
    "ExecuteTime": {
     "end_time": "2020-01-27T07:25:55.156279Z",
     "start_time": "2020-01-27T07:25:54.869805Z"
    }
   },
   "outputs": [],
   "source": [
    "#plot loss function\n",
    "fig,ax = plt.subplots()\n",
    "plt.rcParams['figure.dpi'] = 300\n",
    "plt.rcParams['savefig.dpi'] = 300\n",
    "epochs = range(1, len(loss_values)+1)\n",
    "plt.plot(epochs, loss_values, label='Training Loss',linewidth=2.0)\n",
    "plt.plot(epochs, vali_loss, label='Test Loss',linewidth=2.0)\n",
    "plt.rcParams['font.size'] = 18\n",
    "plt.xlabel('Epochs',fontsize=16, fontweight='bold')\n",
    "plt.ylabel('Loss',fontsize=16, fontweight='bold')\n",
    "for axis in ['top','bottom','left','right']:\n",
    "    ax.spines[axis].set_linewidth(1.5)\n",
    "plt.xlim(1, epochs[-1])\n",
    "plt.ylim(0, 1)\n",
    "plt.xticks(fontsize=16)\n",
    "plt.yticks(fontsize=16)\n",
    "plt.legend()\n",
    "linewidth=10\n",
    "plt.show()"
   ]
  },
  {
   "cell_type": "code",
   "execution_count": null,
   "metadata": {},
   "outputs": [],
   "source": [
    "print(loss_values[-1])\n",
    "print(vali_loss[-1])"
   ]
  },
  {
   "cell_type": "code",
   "execution_count": null,
   "metadata": {
    "ExecuteTime": {
     "end_time": "2020-01-27T07:25:58.010129Z",
     "start_time": "2020-01-27T07:25:56.957061Z"
    },
    "scrolled": false
   },
   "outputs": [],
   "source": [
    "y_pred = nn.predict(x_test)\n",
    "print(np.shape(y_pred))\n",
    "print(y_pred.max(axis=0))\n",
    "print(y_pred.min(axis=0))"
   ]
  },
  {
   "cell_type": "code",
   "execution_count": null,
   "metadata": {
    "ExecuteTime": {
     "end_time": "2020-01-27T07:26:00.528573Z",
     "start_time": "2020-01-27T07:26:00.519861Z"
    }
   },
   "outputs": [],
   "source": [
    "index = 4\n",
    "print(y_pred[index])\n",
    "print(y_test[index])"
   ]
  },
  {
   "cell_type": "code",
   "execution_count": null,
   "metadata": {},
   "outputs": [],
   "source": [
    "output\n",
    "np.savetxt('output_a1.txt',y_pred)"
   ]
  }
 ],
 "metadata": {
  "kernelspec": {
   "display_name": "Python 3",
   "language": "python",
   "name": "python3"
  },
  "language_info": {
   "codemirror_mode": {
    "name": "ipython",
    "version": 3
   },
   "file_extension": ".py",
   "mimetype": "text/x-python",
   "name": "python",
   "nbconvert_exporter": "python",
   "pygments_lexer": "ipython3",
   "version": "3.6.13"
  },
  "latex_envs": {
   "LaTeX_envs_menu_present": true,
   "autoclose": false,
   "autocomplete": true,
   "bibliofile": "biblio.bib",
   "cite_by": "apalike",
   "current_citInitial": 1,
   "eqLabelWithNumbers": true,
   "eqNumInitial": 1,
   "hotkeys": {
    "equation": "Ctrl-E",
    "itemize": "Ctrl-I"
   },
   "labels_anchors": false,
   "latex_user_defs": false,
   "report_style_numbering": false,
   "user_envs_cfg": false
  },
  "varInspector": {
   "cols": {
    "lenName": 16,
    "lenType": 16,
    "lenVar": 40
   },
   "kernels_config": {
    "python": {
     "delete_cmd_postfix": "",
     "delete_cmd_prefix": "del ",
     "library": "var_list.py",
     "varRefreshCmd": "print(var_dic_list())"
    },
    "r": {
     "delete_cmd_postfix": ") ",
     "delete_cmd_prefix": "rm(",
     "library": "var_list.r",
     "varRefreshCmd": "cat(var_dic_list()) "
    }
   },
   "types_to_exclude": [
    "module",
    "function",
    "builtin_function_or_method",
    "instance",
    "_Feature"
   ],
   "window_display": false
  }
 },
 "nbformat": 4,
 "nbformat_minor": 2
}
