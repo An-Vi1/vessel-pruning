{
 "cells": [
  {
   "cell_type": "code",
   "execution_count": 1,
   "metadata": {
    "ExecuteTime": {
     "end_time": "2020-01-27T06:00:21.568935Z",
     "start_time": "2020-01-27T06:00:21.561854Z"
    }
   },
   "outputs": [
    {
     "name": "stderr",
     "output_type": "stream",
     "text": [
      "/Users/vivek/opt/anaconda3/envs/mingqian/lib/python3.6/site-packages/tensorflow/python/framework/dtypes.py:523: FutureWarning: Passing (type, 1) or '1type' as a synonym of type is deprecated; in a future version of numpy, it will be understood as (type, (1,)) / '(1,)type'.\n",
      "  _np_qint8 = np.dtype([(\"qint8\", np.int8, 1)])\n",
      "/Users/vivek/opt/anaconda3/envs/mingqian/lib/python3.6/site-packages/tensorflow/python/framework/dtypes.py:524: FutureWarning: Passing (type, 1) or '1type' as a synonym of type is deprecated; in a future version of numpy, it will be understood as (type, (1,)) / '(1,)type'.\n",
      "  _np_quint8 = np.dtype([(\"quint8\", np.uint8, 1)])\n",
      "/Users/vivek/opt/anaconda3/envs/mingqian/lib/python3.6/site-packages/tensorflow/python/framework/dtypes.py:525: FutureWarning: Passing (type, 1) or '1type' as a synonym of type is deprecated; in a future version of numpy, it will be understood as (type, (1,)) / '(1,)type'.\n",
      "  _np_qint16 = np.dtype([(\"qint16\", np.int16, 1)])\n",
      "/Users/vivek/opt/anaconda3/envs/mingqian/lib/python3.6/site-packages/tensorflow/python/framework/dtypes.py:526: FutureWarning: Passing (type, 1) or '1type' as a synonym of type is deprecated; in a future version of numpy, it will be understood as (type, (1,)) / '(1,)type'.\n",
      "  _np_quint16 = np.dtype([(\"quint16\", np.uint16, 1)])\n",
      "/Users/vivek/opt/anaconda3/envs/mingqian/lib/python3.6/site-packages/tensorflow/python/framework/dtypes.py:527: FutureWarning: Passing (type, 1) or '1type' as a synonym of type is deprecated; in a future version of numpy, it will be understood as (type, (1,)) / '(1,)type'.\n",
      "  _np_qint32 = np.dtype([(\"qint32\", np.int32, 1)])\n",
      "/Users/vivek/opt/anaconda3/envs/mingqian/lib/python3.6/site-packages/tensorflow/python/framework/dtypes.py:532: FutureWarning: Passing (type, 1) or '1type' as a synonym of type is deprecated; in a future version of numpy, it will be understood as (type, (1,)) / '(1,)type'.\n",
      "  np_resource = np.dtype([(\"resource\", np.ubyte, 1)])\n",
      "Using TensorFlow backend.\n"
     ]
    }
   ],
   "source": [
    "import tensorflow as tf\n",
    "import numpy as np\n",
    "import matplotlib.pyplot as plt\n",
    "import keras.models\n",
    "from keras.models import Sequential"
   ]
  },
  {
   "cell_type": "code",
   "execution_count": 3,
   "metadata": {},
   "outputs": [
    {
     "name": "stdout",
     "output_type": "stream",
     "text": [
      "(1603183, 11)\n"
     ]
    }
   ],
   "source": [
    "#load data\n",
    "loadname='./data_for_ML/WSS_sample 1.txt'\n",
    "a1 = np.loadtxt(loadname)\n",
    "loadname='./data_for_ML/WSS_sample 2.txt'\n",
    "a2 = np.loadtxt(loadname)\n",
    "loadname='./data_for_ML/WSS_sample 3.txt'\n",
    "a3 = np.loadtxt(loadname)\n",
    "loadname='./data_for_ML/WSS_sample 4.txt'\n",
    "a4 = np.loadtxt(loadname)\n",
    "loadname='./data_for_ML/WSS_sample 5.txt'\n",
    "a5 = np.loadtxt(loadname)\n",
    "loadname='./data_for_ML/WSS_sample 6.txt'\n",
    "a6 = np.loadtxt(loadname)\n",
    "#loadname='./data_for_ML/WSS_sample 7_non_newtonian1.txt' # since for one case we consider non-newtonian data\n",
    "loadname='./data_for_ML/WSS_sample 7.txt'\n",
    "a7 = np.loadtxt(loadname)\n",
    "\n",
    "print(np.shape(a4))"
   ]
  },
  {
   "cell_type": "code",
   "execution_count": 4,
   "metadata": {},
   "outputs": [
    {
     "name": "stdout",
     "output_type": "stream",
     "text": [
      "(6471157, 11)\n",
      "(1043292, 11)\n"
     ]
    }
   ],
   "source": [
    "data = np.vstack((a1,a2,a3,a4,a5,a6,a7))\n",
    "data_1 = data[:,6:9]\n",
    "data_train = np.vstack((a2,a3,a4,a5,a6,a7))\n",
    "data_train_1 = data_train[:,6:9]\n",
    "data_test = a1\n",
    "print(np.shape(data_train))\n",
    "print(np.shape(data_test))"
   ]
  },
  {
   "cell_type": "code",
   "execution_count": 5,
   "metadata": {},
   "outputs": [
    {
     "name": "stdout",
     "output_type": "stream",
     "text": [
      "(270567, 11)\n",
      "(6200590, 11)\n",
      "[ 2.6300e+02  6.8700e+02  2.0000e+00  1.0809e+03  1.3601e+00  1.0000e+01\n",
      " -2.4731e-01  1.5494e+01  1.0256e+04 -1.8819e-01  0.0000e+00]\n"
     ]
    }
   ],
   "source": [
    "data_train_p = data_train[data_train[:,-1]==1,:]#data from pruned vessels, p=pruned\n",
    "data_train_up = data_train[data_train[:,-1]==0,:]#data from unpruned vessels, up=unpruned\n",
    "print(np.shape(data_train_p))\n",
    "print(np.shape(data_train_up))\n",
    "print(data_train_up[1000,:])"
   ]
  },
  {
   "cell_type": "code",
   "execution_count": 6,
   "metadata": {
    "scrolled": true
   },
   "outputs": [
    {
     "name": "stdout",
     "output_type": "stream",
     "text": [
      "(270567, 3)\n",
      "(270567, 1)\n",
      "20382.0\n",
      "[0.61808468 1.15591058 1.13433422]\n",
      "[-2.5030357   0.16406289  0.        ]\n",
      "[0.56266494 1.         1.        ]\n",
      "[-1.          0.16406289  0.08317143]\n",
      "[0.51543755 0.92428644 1.34986753]\n",
      "[-1.1441755   0.16406289  0.02778432]\n"
     ]
    }
   ],
   "source": [
    "#data for training 0-2:coordinate data; 3-5:cylinder coordinate data; \n",
    "#6:local WSS(alphat); 7:vessel radius; 8:pressure drop; 9: scalar(not correct); 10: prune or not\n",
    "x_train_p = data_train_p[:,6:9]  #x is input\n",
    "x_train_up = data_train_up[:,6:9]\n",
    "x_test = data_test[:,6:9]\n",
    "\n",
    "y_train_p = data_train_p[:,10:11]  # y is output\n",
    "y_train_up = data_train_up[:,10:11]\n",
    "y_test = data_test[:,10:11]\n",
    "\n",
    "#normalization\n",
    "x_normal=abs(x_train_p)\n",
    "x_normal=x_normal.max(axis=0)\n",
    "x_train_p = x_train_p/x_normal\n",
    "x_train_up = x_train_up/x_normal\n",
    "x_test = x_test/x_normal\n",
    "\n",
    "print(np.shape(x_train_p))\n",
    "print(np.shape(y_train_p))\n",
    "print(x_normal.max(axis=0))\n",
    "print(x_train_up.max(axis=0))\n",
    "print(x_train_up.min(axis=0))\n",
    "print(x_train_p.max(axis=0))\n",
    "print(x_train_p.min(axis=0))\n",
    "print(x_test.max(axis=0))\n",
    "print(x_test.min(axis=0))"
   ]
  },
  {
   "cell_type": "code",
   "execution_count": 7,
   "metadata": {
    "ExecuteTime": {
     "end_time": "2020-01-27T06:00:40.561552Z",
     "start_time": "2020-01-27T06:00:40.191781Z"
    }
   },
   "outputs": [
    {
     "name": "stdout",
     "output_type": "stream",
     "text": [
      "[-0.28602769  0.73010861  0.5060838 ]\n",
      "[0.]\n"
     ]
    }
   ],
   "source": [
    "index = 4000\n",
    "\n",
    "print(x_train_up[index,:])\n",
    "print(y_train_up[index,:])"
   ]
  },
  {
   "cell_type": "code",
   "execution_count": 8,
   "metadata": {
    "ExecuteTime": {
     "end_time": "2020-01-27T06:22:06.666276Z",
     "start_time": "2020-01-27T06:22:06.593715Z"
    },
    "run_control": {
     "marked": true
    }
   },
   "outputs": [
    {
     "name": "stdout",
     "output_type": "stream",
     "text": [
      "[1.]\n"
     ]
    }
   ],
   "source": [
    "print(y_test.max(axis=0))"
   ]
  },
  {
   "cell_type": "code",
   "execution_count": 9,
   "metadata": {
    "scrolled": true
   },
   "outputs": [
    {
     "name": "stdout",
     "output_type": "stream",
     "text": [
      "[[ 0.07699101  0.34670371  0.43433422]\n",
      " [-0.37322918  0.50289846  0.7921205 ]\n",
      " [-0.25414879  0.56548371  0.45841919]\n",
      " [ 0.02557678  0.4878631   0.51064665]\n",
      " [-0.42878653  0.47702071  1.05156511]]\n",
      "[[0.]\n",
      " [0.]\n",
      " [0.]\n",
      " [0.]\n",
      " [0.]]\n",
      "[[ 2.8400e+02  5.3700e+02  9.0000e+00  8.7949e+02  1.2856e+00  3.0000e+00\n",
      "   9.5107e-02  5.4904e+00  8.8526e+03 -1.0846e-01  0.0000e+00]\n",
      " [ 3.1700e+02  3.6700e+02  1.4000e+01  6.8679e+02  1.1566e+00  2.0000e+00\n",
      "  -4.6105e-01  7.9639e+00  1.6145e+04 -8.7999e-02  0.0000e+00]\n",
      " [ 3.9300e+02  2.4500e+02  1.0000e+01  6.4420e+02  9.8446e-01  2.0000e+00\n",
      "  -3.1395e-01  8.9550e+00  9.3435e+03  2.3542e-02  0.0000e+00]\n",
      " [ 3.4800e+02  6.3000e+02  1.8000e+01  1.0502e+03  1.2701e+00  6.0000e+00\n",
      "   3.1595e-02  7.7258e+00  1.0408e+04 -1.8470e-01  0.0000e+00]\n",
      " [ 3.1000e+02  2.0000e+00  1.2000e+01  4.0414e+02  8.4107e-01  0.0000e+00\n",
      "  -5.2968e-01  7.5541e+00  2.1433e+04  3.5629e-02  0.0000e+00]]\n",
      "[1.]\n"
     ]
    }
   ],
   "source": [
    "rand_arr = np.arange(x_train_up.shape[0])\n",
    " \n",
    "np.random.shuffle(rand_arr)\n",
    "print(x_train_up[rand_arr[0:5]])\n",
    "print(y_train_up[rand_arr[0:5]])\n",
    "print(data_train_up[rand_arr[0:5]])\n",
    "print(y_train_p.max(axis=0))"
   ]
  },
  {
   "cell_type": "code",
   "execution_count": 10,
   "metadata": {},
   "outputs": [],
   "source": [
    "def simple_linear_model(input_dim):\n",
    "    model = keras.models.Sequential()\n",
    "    model.add(keras.layers.Dense(units=1, input_dim=input_dim, activation='sigmoid'))\n",
    "    model.compile(loss='binary_crossentropy', optimizer='adam', metrics=['accuracy'])\n",
    "    return model"
   ]
  },
  {
   "cell_type": "code",
   "execution_count": 11,
   "metadata": {},
   "outputs": [],
   "source": [
    "input_dim = 3  # input features\n",
    "nn = simple_linear_model(input_dim)"
   ]
  },
  {
   "cell_type": "code",
   "execution_count": 12,
   "metadata": {},
   "outputs": [
    {
     "name": "stdout",
     "output_type": "stream",
     "text": [
      "270567\n"
     ]
    }
   ],
   "source": [
    "lenth_pru=len(data_train_p)\n",
    "print(lenth_pru)"
   ]
  },
  {
   "cell_type": "code",
   "execution_count": 13,
   "metadata": {
    "ExecuteTime": {
     "end_time": "2020-01-27T07:25:43.553688Z",
     "start_time": "2020-01-27T07:25:13.852613Z"
    },
    "scrolled": true
   },
   "outputs": [
    {
     "name": "stdout",
     "output_type": "stream",
     "text": [
      "0\n",
      "Train on 541134 samples, validate on 1043292 samples\n",
      "Epoch 1/10\n",
      "541134/541134 [==============================] - 1s 2us/step - loss: 0.6768 - acc: 0.5860 - val_loss: 0.7751 - val_acc: 0.2539\n",
      "Epoch 2/10\n",
      "541134/541134 [==============================] - 1s 1us/step - loss: 0.6761 - acc: 0.5884 - val_loss: 0.7803 - val_acc: 0.2419\n",
      "Epoch 3/10\n",
      "541134/541134 [==============================] - 1s 1us/step - loss: 0.6754 - acc: 0.5902 - val_loss: 0.7859 - val_acc: 0.2290\n",
      "Epoch 4/10\n",
      "541134/541134 [==============================] - 1s 1us/step - loss: 0.6748 - acc: 0.5919 - val_loss: 0.7914 - val_acc: 0.2172\n",
      "Epoch 5/10\n",
      "541134/541134 [==============================] - 1s 1us/step - loss: 0.6742 - acc: 0.5931 - val_loss: 0.7959 - val_acc: 0.2077\n",
      "Epoch 6/10\n",
      "541134/541134 [==============================] - 1s 1us/step - loss: 0.6736 - acc: 0.5941 - val_loss: 0.7981 - val_acc: 0.2027\n",
      "Epoch 7/10\n",
      "541134/541134 [==============================] - 1s 1us/step - loss: 0.6730 - acc: 0.5952 - val_loss: 0.8010 - val_acc: 0.1969\n",
      "Epoch 8/10\n",
      "541134/541134 [==============================] - 1s 1us/step - loss: 0.6724 - acc: 0.5967 - val_loss: 0.8034 - val_acc: 0.1919\n",
      "Epoch 9/10\n",
      "541134/541134 [==============================] - 1s 1us/step - loss: 0.6719 - acc: 0.5982 - val_loss: 0.8051 - val_acc: 0.1883\n",
      "Epoch 10/10\n",
      "541134/541134 [==============================] - 1s 1us/step - loss: 0.6713 - acc: 0.5995 - val_loss: 0.8070 - val_acc: 0.1847\n",
      "1\n",
      "Train on 541134 samples, validate on 1043292 samples\n",
      "Epoch 1/10\n",
      "541134/541134 [==============================] - 1s 1us/step - loss: 0.6711 - acc: 0.5993 - val_loss: 0.8084 - val_acc: 0.1823\n",
      "Epoch 2/10\n",
      "541134/541134 [==============================] - 1s 1us/step - loss: 0.6706 - acc: 0.6005 - val_loss: 0.8098 - val_acc: 0.1800\n",
      "Epoch 3/10\n",
      "541134/541134 [==============================] - 1s 1us/step - loss: 0.6701 - acc: 0.6019 - val_loss: 0.8100 - val_acc: 0.1797\n",
      "Epoch 4/10\n",
      "541134/541134 [==============================] - 1s 1us/step - loss: 0.6695 - acc: 0.6032 - val_loss: 0.8100 - val_acc: 0.1798\n",
      "Epoch 5/10\n",
      "541134/541134 [==============================] - 1s 1us/step - loss: 0.6690 - acc: 0.6044 - val_loss: 0.8111 - val_acc: 0.1781\n",
      "Epoch 6/10\n",
      "541134/541134 [==============================] - 1s 1us/step - loss: 0.6685 - acc: 0.6055 - val_loss: 0.8112 - val_acc: 0.1780\n",
      "Epoch 7/10\n",
      "541134/541134 [==============================] - 1s 1us/step - loss: 0.6680 - acc: 0.6067 - val_loss: 0.8117 - val_acc: 0.1776\n",
      "Epoch 8/10\n",
      "541134/541134 [==============================] - 1s 1us/step - loss: 0.6675 - acc: 0.6076 - val_loss: 0.8122 - val_acc: 0.1768\n",
      "Epoch 9/10\n",
      "541134/541134 [==============================] - 1s 1us/step - loss: 0.6669 - acc: 0.6089 - val_loss: 0.8109 - val_acc: 0.1788\n",
      "Epoch 10/10\n",
      "541134/541134 [==============================] - 1s 1us/step - loss: 0.6664 - acc: 0.6102 - val_loss: 0.8097 - val_acc: 0.1806\n",
      "2\n",
      "Train on 541134 samples, validate on 1043292 samples\n",
      "Epoch 1/10\n",
      "541134/541134 [==============================] - 1s 1us/step - loss: 0.6656 - acc: 0.6127 - val_loss: 0.8101 - val_acc: 0.1801\n",
      "Epoch 2/10\n",
      "541134/541134 [==============================] - 1s 1us/step - loss: 0.6651 - acc: 0.6138 - val_loss: 0.8104 - val_acc: 0.1796\n",
      "Epoch 3/10\n",
      "541134/541134 [==============================] - 1s 1us/step - loss: 0.6646 - acc: 0.6149 - val_loss: 0.8108 - val_acc: 0.1792\n",
      "Epoch 4/10\n",
      "541134/541134 [==============================] - 1s 1us/step - loss: 0.6641 - acc: 0.6162 - val_loss: 0.8115 - val_acc: 0.1783\n",
      "Epoch 5/10\n",
      "541134/541134 [==============================] - 1s 1us/step - loss: 0.6636 - acc: 0.6174 - val_loss: 0.8121 - val_acc: 0.1775\n",
      "Epoch 6/10\n",
      "541134/541134 [==============================] - 1s 1us/step - loss: 0.6631 - acc: 0.6185 - val_loss: 0.8134 - val_acc: 0.1757\n",
      "Epoch 7/10\n",
      "541134/541134 [==============================] - 1s 1us/step - loss: 0.6627 - acc: 0.6195 - val_loss: 0.8150 - val_acc: 0.1736\n",
      "Epoch 8/10\n",
      "541134/541134 [==============================] - 1s 1us/step - loss: 0.6622 - acc: 0.6204 - val_loss: 0.8167 - val_acc: 0.1714\n",
      "Epoch 9/10\n",
      "541134/541134 [==============================] - 1s 1us/step - loss: 0.6617 - acc: 0.6214 - val_loss: 0.8182 - val_acc: 0.1697\n",
      "Epoch 10/10\n",
      "541134/541134 [==============================] - 1s 1us/step - loss: 0.6612 - acc: 0.6226 - val_loss: 0.8192 - val_acc: 0.1685\n",
      "3\n",
      "Train on 541134 samples, validate on 1043292 samples\n",
      "Epoch 1/10\n",
      "541134/541134 [==============================] - 1s 1us/step - loss: 0.6607 - acc: 0.6234 - val_loss: 0.8192 - val_acc: 0.1689\n",
      "Epoch 2/10\n",
      "541134/541134 [==============================] - 1s 1us/step - loss: 0.6603 - acc: 0.6248 - val_loss: 0.8201 - val_acc: 0.1680\n",
      "Epoch 3/10\n",
      "541134/541134 [==============================] - 1s 1us/step - loss: 0.6598 - acc: 0.6261 - val_loss: 0.8203 - val_acc: 0.1683\n",
      "Epoch 4/10\n",
      "541134/541134 [==============================] - 1s 1us/step - loss: 0.6593 - acc: 0.6275 - val_loss: 0.8211 - val_acc: 0.1677\n",
      "Epoch 5/10\n",
      "541134/541134 [==============================] - 1s 1us/step - loss: 0.6589 - acc: 0.6285 - val_loss: 0.8204 - val_acc: 0.1690\n",
      "Epoch 6/10\n",
      "541134/541134 [==============================] - 1s 1us/step - loss: 0.6584 - acc: 0.6295 - val_loss: 0.8195 - val_acc: 0.1706\n",
      "Epoch 7/10\n",
      "541134/541134 [==============================] - 1s 1us/step - loss: 0.6580 - acc: 0.6307 - val_loss: 0.8185 - val_acc: 0.1723\n",
      "Epoch 8/10\n",
      "541134/541134 [==============================] - 1s 1us/step - loss: 0.6575 - acc: 0.6319 - val_loss: 0.8187 - val_acc: 0.1726\n",
      "Epoch 9/10\n",
      "541134/541134 [==============================] - 1s 1us/step - loss: 0.6571 - acc: 0.6332 - val_loss: 0.8209 - val_acc: 0.1707\n",
      "Epoch 10/10\n",
      "541134/541134 [==============================] - 1s 1us/step - loss: 0.6566 - acc: 0.6344 - val_loss: 0.8234 - val_acc: 0.1686\n",
      "4\n",
      "Train on 541134 samples, validate on 1043292 samples\n",
      "Epoch 1/10\n",
      "541134/541134 [==============================] - 1s 1us/step - loss: 0.6561 - acc: 0.6364 - val_loss: 0.8252 - val_acc: 0.1671\n",
      "Epoch 2/10\n",
      "541134/541134 [==============================] - 1s 1us/step - loss: 0.6557 - acc: 0.6376 - val_loss: 0.8245 - val_acc: 0.1686\n",
      "Epoch 3/10\n",
      "541134/541134 [==============================] - 1s 1us/step - loss: 0.6553 - acc: 0.6387 - val_loss: 0.8248 - val_acc: 0.1690\n",
      "Epoch 4/10\n",
      "541134/541134 [==============================] - 1s 1us/step - loss: 0.6548 - acc: 0.6399 - val_loss: 0.8231 - val_acc: 0.1717\n",
      "Epoch 5/10\n",
      "541134/541134 [==============================] - 1s 1us/step - loss: 0.6544 - acc: 0.6409 - val_loss: 0.8226 - val_acc: 0.1731\n",
      "Epoch 6/10\n",
      "541134/541134 [==============================] - 1s 1us/step - loss: 0.6540 - acc: 0.6419 - val_loss: 0.8219 - val_acc: 0.1745\n",
      "Epoch 7/10\n",
      "541134/541134 [==============================] - 1s 1us/step - loss: 0.6536 - acc: 0.6429 - val_loss: 0.8230 - val_acc: 0.1739\n",
      "Epoch 8/10\n",
      "541134/541134 [==============================] - 1s 1us/step - loss: 0.6532 - acc: 0.6442 - val_loss: 0.8245 - val_acc: 0.1730\n",
      "Epoch 9/10\n",
      "541134/541134 [==============================] - 1s 1us/step - loss: 0.6527 - acc: 0.6456 - val_loss: 0.8250 - val_acc: 0.1733\n",
      "Epoch 10/10\n",
      "541134/541134 [==============================] - 1s 1us/step - loss: 0.6523 - acc: 0.6467 - val_loss: 0.8241 - val_acc: 0.1753\n",
      "5\n",
      "Train on 541134 samples, validate on 1043292 samples\n",
      "Epoch 1/10\n",
      "541134/541134 [==============================] - 1s 1us/step - loss: 0.6520 - acc: 0.6471 - val_loss: 0.8232 - val_acc: 0.1770\n",
      "Epoch 2/10\n",
      "541134/541134 [==============================] - 1s 1us/step - loss: 0.6516 - acc: 0.6481 - val_loss: 0.8236 - val_acc: 0.1775\n",
      "Epoch 3/10\n",
      "541134/541134 [==============================] - 1s 1us/step - loss: 0.6512 - acc: 0.6491 - val_loss: 0.8237 - val_acc: 0.1783\n",
      "Epoch 4/10\n",
      "541134/541134 [==============================] - 1s 1us/step - loss: 0.6508 - acc: 0.6506 - val_loss: 0.8265 - val_acc: 0.1765\n",
      "Epoch 5/10\n",
      "541134/541134 [==============================] - 1s 1us/step - loss: 0.6504 - acc: 0.6523 - val_loss: 0.8293 - val_acc: 0.1748\n",
      "Epoch 6/10\n",
      "541134/541134 [==============================] - 1s 1us/step - loss: 0.6500 - acc: 0.6537 - val_loss: 0.8301 - val_acc: 0.1750\n",
      "Epoch 7/10\n",
      "541134/541134 [==============================] - 1s 1us/step - loss: 0.6496 - acc: 0.6546 - val_loss: 0.8287 - val_acc: 0.1774\n"
     ]
    },
    {
     "name": "stdout",
     "output_type": "stream",
     "text": [
      "Epoch 8/10\n",
      "541134/541134 [==============================] - 1s 1us/step - loss: 0.6492 - acc: 0.6553 - val_loss: 0.8282 - val_acc: 0.1789\n",
      "Epoch 9/10\n",
      "541134/541134 [==============================] - 1s 1us/step - loss: 0.6488 - acc: 0.6559 - val_loss: 0.8259 - val_acc: 0.1822\n",
      "Epoch 10/10\n",
      "541134/541134 [==============================] - 1s 1us/step - loss: 0.6484 - acc: 0.6565 - val_loss: 0.8241 - val_acc: 0.1850\n",
      "6\n",
      "Train on 541134 samples, validate on 1043292 samples\n",
      "Epoch 1/10\n",
      "541134/541134 [==============================] - 1s 1us/step - loss: 0.6478 - acc: 0.6580 - val_loss: 0.8249 - val_acc: 0.1852\n",
      "Epoch 2/10\n",
      "541134/541134 [==============================] - 1s 1us/step - loss: 0.6474 - acc: 0.6590 - val_loss: 0.8270 - val_acc: 0.1839\n",
      "Epoch 3/10\n",
      "541134/541134 [==============================] - 1s 1us/step - loss: 0.6470 - acc: 0.6602 - val_loss: 0.8283 - val_acc: 0.1835\n",
      "Epoch 4/10\n",
      "541134/541134 [==============================] - 1s 1us/step - loss: 0.6466 - acc: 0.6612 - val_loss: 0.8293 - val_acc: 0.1834\n",
      "Epoch 5/10\n",
      "541134/541134 [==============================] - 1s 1us/step - loss: 0.6462 - acc: 0.6619 - val_loss: 0.8299 - val_acc: 0.1836\n",
      "Epoch 6/10\n",
      "541134/541134 [==============================] - 1s 1us/step - loss: 0.6459 - acc: 0.6626 - val_loss: 0.8303 - val_acc: 0.1840\n",
      "Epoch 7/10\n",
      "541134/541134 [==============================] - 1s 1us/step - loss: 0.6455 - acc: 0.6634 - val_loss: 0.8287 - val_acc: 0.1866\n",
      "Epoch 8/10\n",
      "541134/541134 [==============================] - 1s 1us/step - loss: 0.6451 - acc: 0.6641 - val_loss: 0.8276 - val_acc: 0.1886\n",
      "Epoch 9/10\n",
      "541134/541134 [==============================] - 1s 1us/step - loss: 0.6447 - acc: 0.6647 - val_loss: 0.8277 - val_acc: 0.1891\n",
      "Epoch 10/10\n",
      "541134/541134 [==============================] - 1s 1us/step - loss: 0.6444 - acc: 0.6652 - val_loss: 0.8286 - val_acc: 0.1891\n",
      "7\n",
      "Train on 541134 samples, validate on 1043292 samples\n",
      "Epoch 1/10\n",
      "541134/541134 [==============================] - 1s 1us/step - loss: 0.6440 - acc: 0.6652 - val_loss: 0.8282 - val_acc: 0.1901\n",
      "Epoch 2/10\n",
      "541134/541134 [==============================] - 1s 1us/step - loss: 0.6437 - acc: 0.6658 - val_loss: 0.8288 - val_acc: 0.1903\n",
      "Epoch 3/10\n",
      "541134/541134 [==============================] - 1s 1us/step - loss: 0.6433 - acc: 0.6661 - val_loss: 0.8285 - val_acc: 0.1913\n",
      "Epoch 4/10\n",
      "541134/541134 [==============================] - 1s 1us/step - loss: 0.6429 - acc: 0.6667 - val_loss: 0.8304 - val_acc: 0.1903\n",
      "Epoch 5/10\n",
      "541134/541134 [==============================] - 1s 1us/step - loss: 0.6426 - acc: 0.6670 - val_loss: 0.8289 - val_acc: 0.1922\n",
      "Epoch 6/10\n",
      "541134/541134 [==============================] - 1s 1us/step - loss: 0.6422 - acc: 0.6675 - val_loss: 0.8302 - val_acc: 0.1918\n",
      "Epoch 7/10\n",
      "541134/541134 [==============================] - 1s 1us/step - loss: 0.6419 - acc: 0.6684 - val_loss: 0.8317 - val_acc: 0.1912\n",
      "Epoch 8/10\n",
      "541134/541134 [==============================] - 1s 1us/step - loss: 0.6415 - acc: 0.6688 - val_loss: 0.8315 - val_acc: 0.1921\n",
      "Epoch 9/10\n",
      "541134/541134 [==============================] - 1s 1us/step - loss: 0.6412 - acc: 0.6687 - val_loss: 0.8295 - val_acc: 0.1946\n",
      "Epoch 10/10\n",
      "541134/541134 [==============================] - 1s 1us/step - loss: 0.6408 - acc: 0.6686 - val_loss: 0.8303 - val_acc: 0.1947\n",
      "8\n",
      "Train on 541134 samples, validate on 1043292 samples\n",
      "Epoch 1/10\n",
      "541134/541134 [==============================] - 1s 1us/step - loss: 0.6404 - acc: 0.6698 - val_loss: 0.8335 - val_acc: 0.1927\n",
      "Epoch 2/10\n",
      "541134/541134 [==============================] - 1s 1us/step - loss: 0.6401 - acc: 0.6703 - val_loss: 0.8341 - val_acc: 0.1929\n",
      "Epoch 3/10\n",
      "541134/541134 [==============================] - 1s 1us/step - loss: 0.6397 - acc: 0.6704 - val_loss: 0.8336 - val_acc: 0.1941\n",
      "Epoch 4/10\n",
      "541134/541134 [==============================] - 1s 1us/step - loss: 0.6394 - acc: 0.6704 - val_loss: 0.8339 - val_acc: 0.1946\n",
      "Epoch 5/10\n",
      "541134/541134 [==============================] - 1s 1us/step - loss: 0.6390 - acc: 0.6708 - val_loss: 0.8321 - val_acc: 0.1967\n",
      "Epoch 6/10\n",
      "541134/541134 [==============================] - 1s 1us/step - loss: 0.6387 - acc: 0.6714 - val_loss: 0.8292 - val_acc: 0.1997\n",
      "Epoch 7/10\n",
      "541134/541134 [==============================] - 1s 1us/step - loss: 0.6384 - acc: 0.6717 - val_loss: 0.8281 - val_acc: 0.2012\n",
      "Epoch 8/10\n",
      "541134/541134 [==============================] - 1s 1us/step - loss: 0.6380 - acc: 0.6721 - val_loss: 0.8301 - val_acc: 0.2001\n",
      "Epoch 9/10\n",
      "541134/541134 [==============================] - 1s 1us/step - loss: 0.6377 - acc: 0.6725 - val_loss: 0.8322 - val_acc: 0.1989\n",
      "Epoch 10/10\n",
      "541134/541134 [==============================] - 1s 1us/step - loss: 0.6374 - acc: 0.6727 - val_loss: 0.8309 - val_acc: 0.2004\n",
      "9\n",
      "Train on 541134 samples, validate on 1043292 samples\n",
      "Epoch 1/10\n",
      "541134/541134 [==============================] - 1s 1us/step - loss: 0.6375 - acc: 0.6723 - val_loss: 0.8320 - val_acc: 0.2001\n",
      "Epoch 2/10\n",
      "541134/541134 [==============================] - 1s 1us/step - loss: 0.6372 - acc: 0.6725 - val_loss: 0.8340 - val_acc: 0.1992\n",
      "Epoch 3/10\n",
      "541134/541134 [==============================] - 1s 1us/step - loss: 0.6368 - acc: 0.6729 - val_loss: 0.8331 - val_acc: 0.2005\n",
      "Epoch 4/10\n",
      "541134/541134 [==============================] - 1s 1us/step - loss: 0.6365 - acc: 0.6734 - val_loss: 0.8313 - val_acc: 0.2024\n",
      "Epoch 5/10\n",
      "541134/541134 [==============================] - 1s 1us/step - loss: 0.6362 - acc: 0.6738 - val_loss: 0.8303 - val_acc: 0.2035\n",
      "Epoch 6/10\n",
      "541134/541134 [==============================] - 1s 1us/step - loss: 0.6359 - acc: 0.6743 - val_loss: 0.8306 - val_acc: 0.2037\n",
      "Epoch 7/10\n",
      "541134/541134 [==============================] - 1s 1us/step - loss: 0.6356 - acc: 0.6746 - val_loss: 0.8312 - val_acc: 0.2037\n",
      "Epoch 8/10\n",
      "541134/541134 [==============================] - 1s 1us/step - loss: 0.6353 - acc: 0.6749 - val_loss: 0.8318 - val_acc: 0.2037\n",
      "Epoch 9/10\n",
      "541134/541134 [==============================] - 1s 1us/step - loss: 0.6350 - acc: 0.6752 - val_loss: 0.8343 - val_acc: 0.2027\n",
      "Epoch 10/10\n",
      "541134/541134 [==============================] - 1s 1us/step - loss: 0.6347 - acc: 0.6756 - val_loss: 0.8356 - val_acc: 0.2023\n",
      "10\n",
      "Train on 541134 samples, validate on 1043292 samples\n",
      "Epoch 1/10\n",
      "541134/541134 [==============================] - 1s 1us/step - loss: 0.6342 - acc: 0.6760 - val_loss: 0.8348 - val_acc: 0.2033\n",
      "Epoch 2/10\n",
      "541134/541134 [==============================] - 1s 1us/step - loss: 0.6339 - acc: 0.6762 - val_loss: 0.8336 - val_acc: 0.2045\n",
      "Epoch 3/10\n",
      "541134/541134 [==============================] - 1s 1us/step - loss: 0.6336 - acc: 0.6765 - val_loss: 0.8307 - val_acc: 0.2070\n",
      "Epoch 4/10\n",
      "541134/541134 [==============================] - 1s 1us/step - loss: 0.6333 - acc: 0.6768 - val_loss: 0.8287 - val_acc: 0.2088\n",
      "Epoch 5/10\n",
      "541134/541134 [==============================] - 1s 1us/step - loss: 0.6330 - acc: 0.6769 - val_loss: 0.8283 - val_acc: 0.2095\n",
      "Epoch 6/10\n",
      "541134/541134 [==============================] - 1s 1us/step - loss: 0.6327 - acc: 0.6772 - val_loss: 0.8302 - val_acc: 0.2086\n",
      "Epoch 7/10\n",
      "541134/541134 [==============================] - 1s 1us/step - loss: 0.6324 - acc: 0.6774 - val_loss: 0.8317 - val_acc: 0.2080\n",
      "Epoch 8/10\n",
      "541134/541134 [==============================] - 1s 1us/step - loss: 0.6321 - acc: 0.6778 - val_loss: 0.8339 - val_acc: 0.2069\n",
      "Epoch 9/10\n",
      "541134/541134 [==============================] - 1s 1us/step - loss: 0.6318 - acc: 0.6780 - val_loss: 0.8328 - val_acc: 0.2081\n",
      "Epoch 10/10\n",
      "541134/541134 [==============================] - 1s 1us/step - loss: 0.6315 - acc: 0.6783 - val_loss: 0.8331 - val_acc: 0.2084\n",
      "11\n",
      "Train on 541134 samples, validate on 1043292 samples\n",
      "Epoch 1/10\n",
      "541134/541134 [==============================] - 1s 1us/step - loss: 0.6313 - acc: 0.6784 - val_loss: 0.8315 - val_acc: 0.2097\n",
      "Epoch 2/10\n",
      "541134/541134 [==============================] - 1s 1us/step - loss: 0.6310 - acc: 0.6789 - val_loss: 0.8325 - val_acc: 0.2093\n",
      "Epoch 3/10\n",
      "541134/541134 [==============================] - 1s 1us/step - loss: 0.6307 - acc: 0.6794 - val_loss: 0.8338 - val_acc: 0.2087\n",
      "Epoch 4/10\n",
      "541134/541134 [==============================] - 1s 1us/step - loss: 0.6305 - acc: 0.6797 - val_loss: 0.8322 - val_acc: 0.2100\n"
     ]
    },
    {
     "name": "stdout",
     "output_type": "stream",
     "text": [
      "Epoch 5/10\n",
      "541134/541134 [==============================] - 1s 1us/step - loss: 0.6302 - acc: 0.6800 - val_loss: 0.8314 - val_acc: 0.2109\n",
      "Epoch 6/10\n",
      "541134/541134 [==============================] - 1s 1us/step - loss: 0.6299 - acc: 0.6802 - val_loss: 0.8319 - val_acc: 0.2109\n",
      "Epoch 7/10\n",
      "541134/541134 [==============================] - 1s 1us/step - loss: 0.6296 - acc: 0.6804 - val_loss: 0.8315 - val_acc: 0.2117\n",
      "Epoch 8/10\n",
      "541134/541134 [==============================] - 1s 1us/step - loss: 0.6293 - acc: 0.6807 - val_loss: 0.8314 - val_acc: 0.2124\n",
      "Epoch 9/10\n",
      "541134/541134 [==============================] - 1s 1us/step - loss: 0.6291 - acc: 0.6810 - val_loss: 0.8326 - val_acc: 0.2118\n",
      "Epoch 10/10\n",
      "541134/541134 [==============================] - 1s 1us/step - loss: 0.6288 - acc: 0.6814 - val_loss: 0.8334 - val_acc: 0.2116\n",
      "12\n",
      "Train on 541134 samples, validate on 1043292 samples\n",
      "Epoch 1/10\n",
      "541134/541134 [==============================] - 1s 1us/step - loss: 0.6284 - acc: 0.6821 - val_loss: 0.8326 - val_acc: 0.2132\n",
      "Epoch 2/10\n",
      "541134/541134 [==============================] - 1s 1us/step - loss: 0.6281 - acc: 0.6825 - val_loss: 0.8311 - val_acc: 0.2166\n",
      "Epoch 3/10\n",
      "541134/541134 [==============================] - 1s 1us/step - loss: 0.6279 - acc: 0.6829 - val_loss: 0.8308 - val_acc: 0.2184\n",
      "Epoch 4/10\n",
      "541134/541134 [==============================] - 1s 1us/step - loss: 0.6276 - acc: 0.6832 - val_loss: 0.8319 - val_acc: 0.2180\n",
      "Epoch 5/10\n",
      "541134/541134 [==============================] - 1s 1us/step - loss: 0.6273 - acc: 0.6836 - val_loss: 0.8316 - val_acc: 0.2208\n",
      "Epoch 6/10\n",
      "541134/541134 [==============================] - 1s 1us/step - loss: 0.6271 - acc: 0.6840 - val_loss: 0.8313 - val_acc: 0.2233\n",
      "Epoch 7/10\n",
      "541134/541134 [==============================] - 1s 1us/step - loss: 0.6268 - acc: 0.6845 - val_loss: 0.8296 - val_acc: 0.2266\n",
      "Epoch 8/10\n",
      "541134/541134 [==============================] - 1s 1us/step - loss: 0.6265 - acc: 0.6850 - val_loss: 0.8293 - val_acc: 0.2276\n",
      "Epoch 9/10\n",
      "541134/541134 [==============================] - 1s 1us/step - loss: 0.6263 - acc: 0.6855 - val_loss: 0.8280 - val_acc: 0.2307\n",
      "Epoch 10/10\n",
      "541134/541134 [==============================] - 1s 1us/step - loss: 0.6260 - acc: 0.6858 - val_loss: 0.8296 - val_acc: 0.2299\n",
      "13\n",
      "Train on 541134 samples, validate on 1043292 samples\n",
      "Epoch 1/10\n",
      "541134/541134 [==============================] - 1s 1us/step - loss: 0.6253 - acc: 0.6875 - val_loss: 0.8308 - val_acc: 0.2300\n",
      "Epoch 2/10\n",
      "541134/541134 [==============================] - 1s 1us/step - loss: 0.6250 - acc: 0.6876 - val_loss: 0.8308 - val_acc: 0.2308\n",
      "Epoch 3/10\n",
      "541134/541134 [==============================] - 1s 1us/step - loss: 0.6248 - acc: 0.6877 - val_loss: 0.8308 - val_acc: 0.2313\n",
      "Epoch 4/10\n",
      "541134/541134 [==============================] - 1s 1us/step - loss: 0.6245 - acc: 0.6877 - val_loss: 0.8328 - val_acc: 0.2299\n",
      "Epoch 5/10\n",
      "541134/541134 [==============================] - 1s 1us/step - loss: 0.6243 - acc: 0.6876 - val_loss: 0.8323 - val_acc: 0.2314\n",
      "Epoch 6/10\n",
      "541134/541134 [==============================] - 1s 1us/step - loss: 0.6240 - acc: 0.6880 - val_loss: 0.8313 - val_acc: 0.2351\n",
      "Epoch 7/10\n",
      "541134/541134 [==============================] - 1s 1us/step - loss: 0.6237 - acc: 0.6882 - val_loss: 0.8316 - val_acc: 0.2355\n",
      "Epoch 8/10\n",
      "541134/541134 [==============================] - 1s 1us/step - loss: 0.6235 - acc: 0.6881 - val_loss: 0.8313 - val_acc: 0.2358\n",
      "Epoch 9/10\n",
      "541134/541134 [==============================] - 1s 1us/step - loss: 0.6232 - acc: 0.6883 - val_loss: 0.8303 - val_acc: 0.2368\n",
      "Epoch 10/10\n",
      "541134/541134 [==============================] - 1s 1us/step - loss: 0.6230 - acc: 0.6887 - val_loss: 0.8281 - val_acc: 0.2399\n",
      "14\n",
      "Train on 541134 samples, validate on 1043292 samples\n",
      "Epoch 1/10\n",
      "541134/541134 [==============================] - 1s 1us/step - loss: 0.6231 - acc: 0.6883 - val_loss: 0.8276 - val_acc: 0.2407\n",
      "Epoch 2/10\n",
      "541134/541134 [==============================] - 1s 1us/step - loss: 0.6229 - acc: 0.6882 - val_loss: 0.8305 - val_acc: 0.2390\n",
      "Epoch 3/10\n",
      "541134/541134 [==============================] - 1s 1us/step - loss: 0.6226 - acc: 0.6883 - val_loss: 0.8324 - val_acc: 0.2383\n",
      "Epoch 4/10\n",
      "541134/541134 [==============================] - 1s 1us/step - loss: 0.6224 - acc: 0.6884 - val_loss: 0.8326 - val_acc: 0.2386\n",
      "Epoch 5/10\n",
      "541134/541134 [==============================] - 1s 1us/step - loss: 0.6222 - acc: 0.6886 - val_loss: 0.8325 - val_acc: 0.2390\n",
      "Epoch 6/10\n",
      "541134/541134 [==============================] - 1s 1us/step - loss: 0.6219 - acc: 0.6887 - val_loss: 0.8329 - val_acc: 0.2390\n",
      "Epoch 7/10\n",
      "541134/541134 [==============================] - 1s 1us/step - loss: 0.6217 - acc: 0.6888 - val_loss: 0.8321 - val_acc: 0.2404\n",
      "Epoch 8/10\n",
      "541134/541134 [==============================] - 1s 1us/step - loss: 0.6214 - acc: 0.6891 - val_loss: 0.8311 - val_acc: 0.2430\n",
      "Epoch 9/10\n",
      "541134/541134 [==============================] - 1s 1us/step - loss: 0.6212 - acc: 0.6893 - val_loss: 0.8307 - val_acc: 0.2444\n",
      "Epoch 10/10\n",
      "541134/541134 [==============================] - 1s 1us/step - loss: 0.6210 - acc: 0.6895 - val_loss: 0.8293 - val_acc: 0.2463\n",
      "15\n",
      "Train on 541134 samples, validate on 1043292 samples\n",
      "Epoch 1/10\n",
      "541134/541134 [==============================] - 1s 1us/step - loss: 0.6207 - acc: 0.6902 - val_loss: 0.8267 - val_acc: 0.2492\n",
      "Epoch 2/10\n",
      "541134/541134 [==============================] - 1s 1us/step - loss: 0.6205 - acc: 0.6903 - val_loss: 0.8238 - val_acc: 0.2514\n",
      "Epoch 3/10\n",
      "541134/541134 [==============================] - 1s 1us/step - loss: 0.6203 - acc: 0.6904 - val_loss: 0.8250 - val_acc: 0.2511\n",
      "Epoch 4/10\n",
      "541134/541134 [==============================] - 1s 1us/step - loss: 0.6201 - acc: 0.6906 - val_loss: 0.8276 - val_acc: 0.2499\n",
      "Epoch 5/10\n",
      "541134/541134 [==============================] - 1s 1us/step - loss: 0.6198 - acc: 0.6908 - val_loss: 0.8302 - val_acc: 0.2488\n",
      "Epoch 6/10\n",
      "541134/541134 [==============================] - 1s 1us/step - loss: 0.6196 - acc: 0.6912 - val_loss: 0.8318 - val_acc: 0.2484\n",
      "Epoch 7/10\n",
      "541134/541134 [==============================] - 1s 1us/step - loss: 0.6194 - acc: 0.6913 - val_loss: 0.8310 - val_acc: 0.2493\n",
      "Epoch 8/10\n",
      "541134/541134 [==============================] - 1s 1us/step - loss: 0.6191 - acc: 0.6912 - val_loss: 0.8284 - val_acc: 0.2510\n",
      "Epoch 9/10\n",
      "541134/541134 [==============================] - 1s 1us/step - loss: 0.6189 - acc: 0.6913 - val_loss: 0.8267 - val_acc: 0.2527\n",
      "Epoch 10/10\n",
      "541134/541134 [==============================] - 1s 1us/step - loss: 0.6187 - acc: 0.6913 - val_loss: 0.8282 - val_acc: 0.2522\n",
      "16\n",
      "Train on 541134 samples, validate on 1043292 samples\n",
      "Epoch 1/10\n",
      "541134/541134 [==============================] - 1s 1us/step - loss: 0.6183 - acc: 0.6919 - val_loss: 0.8267 - val_acc: 0.2535\n",
      "Epoch 2/10\n",
      "541134/541134 [==============================] - 1s 1us/step - loss: 0.6181 - acc: 0.6918 - val_loss: 0.8253 - val_acc: 0.2549\n",
      "Epoch 3/10\n",
      "541134/541134 [==============================] - 1s 1us/step - loss: 0.6178 - acc: 0.6918 - val_loss: 0.8265 - val_acc: 0.2546\n",
      "Epoch 4/10\n",
      "541134/541134 [==============================] - 1s 1us/step - loss: 0.6176 - acc: 0.6922 - val_loss: 0.8274 - val_acc: 0.2546\n",
      "Epoch 5/10\n",
      "541134/541134 [==============================] - 1s 1us/step - loss: 0.6174 - acc: 0.6923 - val_loss: 0.8287 - val_acc: 0.2544\n",
      "Epoch 6/10\n",
      "541134/541134 [==============================] - 1s 1us/step - loss: 0.6172 - acc: 0.6924 - val_loss: 0.8291 - val_acc: 0.2546\n",
      "Epoch 7/10\n",
      "541134/541134 [==============================] - 1s 1us/step - loss: 0.6170 - acc: 0.6923 - val_loss: 0.8297 - val_acc: 0.2547\n",
      "Epoch 8/10\n",
      "541134/541134 [==============================] - 1s 1us/step - loss: 0.6168 - acc: 0.6922 - val_loss: 0.8284 - val_acc: 0.2559\n",
      "Epoch 9/10\n",
      "541134/541134 [==============================] - 1s 1us/step - loss: 0.6165 - acc: 0.6925 - val_loss: 0.8255 - val_acc: 0.2583\n",
      "Epoch 10/10\n",
      "541134/541134 [==============================] - 1s 1us/step - loss: 0.6163 - acc: 0.6927 - val_loss: 0.8265 - val_acc: 0.2581\n",
      "17\n",
      "Train on 541134 samples, validate on 1043292 samples\n",
      "Epoch 1/10\n",
      "541134/541134 [==============================] - 1s 1us/step - loss: 0.6164 - acc: 0.6913 - val_loss: 0.8280 - val_acc: 0.2576\n"
     ]
    },
    {
     "name": "stdout",
     "output_type": "stream",
     "text": [
      "Epoch 2/10\n",
      "541134/541134 [==============================] - 1s 1us/step - loss: 0.6162 - acc: 0.6913 - val_loss: 0.8262 - val_acc: 0.2593\n",
      "Epoch 3/10\n",
      "541134/541134 [==============================] - 1s 1us/step - loss: 0.6160 - acc: 0.6915 - val_loss: 0.8269 - val_acc: 0.2593\n",
      "Epoch 4/10\n",
      "541134/541134 [==============================] - 1s 1us/step - loss: 0.6158 - acc: 0.6915 - val_loss: 0.8265 - val_acc: 0.2602\n",
      "Epoch 5/10\n",
      "541134/541134 [==============================] - 1s 1us/step - loss: 0.6156 - acc: 0.6917 - val_loss: 0.8250 - val_acc: 0.2619\n",
      "Epoch 6/10\n",
      "541134/541134 [==============================] - 1s 1us/step - loss: 0.6154 - acc: 0.6919 - val_loss: 0.8273 - val_acc: 0.2606\n",
      "Epoch 7/10\n",
      "541134/541134 [==============================] - 1s 1us/step - loss: 0.6152 - acc: 0.6919 - val_loss: 0.8284 - val_acc: 0.2603\n",
      "Epoch 8/10\n",
      "541134/541134 [==============================] - 1s 1us/step - loss: 0.6150 - acc: 0.6922 - val_loss: 0.8260 - val_acc: 0.2629\n",
      "Epoch 9/10\n",
      "541134/541134 [==============================] - 1s 1us/step - loss: 0.6148 - acc: 0.6923 - val_loss: 0.8233 - val_acc: 0.2657\n",
      "Epoch 10/10\n",
      "541134/541134 [==============================] - 1s 1us/step - loss: 0.6146 - acc: 0.6925 - val_loss: 0.8229 - val_acc: 0.2666\n",
      "18\n",
      "Train on 541134 samples, validate on 1043292 samples\n",
      "Epoch 1/10\n",
      "541134/541134 [==============================] - 1s 1us/step - loss: 0.6143 - acc: 0.6928 - val_loss: 0.8210 - val_acc: 0.2692\n",
      "Epoch 2/10\n",
      "541134/541134 [==============================] - 1s 1us/step - loss: 0.6141 - acc: 0.6931 - val_loss: 0.8188 - val_acc: 0.2715\n",
      "Epoch 3/10\n",
      "541134/541134 [==============================] - 1s 1us/step - loss: 0.6139 - acc: 0.6933 - val_loss: 0.8163 - val_acc: 0.2738\n",
      "Epoch 4/10\n",
      "541134/541134 [==============================] - 1s 1us/step - loss: 0.6137 - acc: 0.6934 - val_loss: 0.8179 - val_acc: 0.2729\n",
      "Epoch 5/10\n",
      "541134/541134 [==============================] - 1s 1us/step - loss: 0.6135 - acc: 0.6935 - val_loss: 0.8189 - val_acc: 0.2726\n",
      "Epoch 6/10\n",
      "541134/541134 [==============================] - 1s 1us/step - loss: 0.6133 - acc: 0.6935 - val_loss: 0.8191 - val_acc: 0.2728\n",
      "Epoch 7/10\n",
      "541134/541134 [==============================] - 1s 1us/step - loss: 0.6131 - acc: 0.6936 - val_loss: 0.8188 - val_acc: 0.2734\n",
      "Epoch 8/10\n",
      "541134/541134 [==============================] - 1s 1us/step - loss: 0.6130 - acc: 0.6936 - val_loss: 0.8191 - val_acc: 0.2737\n",
      "Epoch 9/10\n",
      "541134/541134 [==============================] - 1s 1us/step - loss: 0.6128 - acc: 0.6936 - val_loss: 0.8213 - val_acc: 0.2724\n",
      "Epoch 10/10\n",
      "541134/541134 [==============================] - 1s 1us/step - loss: 0.6126 - acc: 0.6937 - val_loss: 0.8213 - val_acc: 0.2729\n",
      "19\n",
      "Train on 541134 samples, validate on 1043292 samples\n",
      "Epoch 1/10\n",
      "541134/541134 [==============================] - 1s 1us/step - loss: 0.6123 - acc: 0.6941 - val_loss: 0.8198 - val_acc: 0.2744\n",
      "Epoch 2/10\n",
      "541134/541134 [==============================] - 1s 1us/step - loss: 0.6121 - acc: 0.6942 - val_loss: 0.8190 - val_acc: 0.2756\n",
      "Epoch 3/10\n",
      "541134/541134 [==============================] - 1s 1us/step - loss: 0.6119 - acc: 0.6942 - val_loss: 0.8196 - val_acc: 0.2756\n",
      "Epoch 4/10\n",
      "541134/541134 [==============================] - 1s 1us/step - loss: 0.6117 - acc: 0.6942 - val_loss: 0.8194 - val_acc: 0.2762\n",
      "Epoch 5/10\n",
      "541134/541134 [==============================] - 1s 1us/step - loss: 0.6116 - acc: 0.6943 - val_loss: 0.8181 - val_acc: 0.2777\n",
      "Epoch 6/10\n",
      "541134/541134 [==============================] - 1s 1us/step - loss: 0.6114 - acc: 0.6942 - val_loss: 0.8200 - val_acc: 0.2767\n",
      "Epoch 7/10\n",
      "541134/541134 [==============================] - 1s 1us/step - loss: 0.6112 - acc: 0.6942 - val_loss: 0.8189 - val_acc: 0.2780\n",
      "Epoch 8/10\n",
      "541134/541134 [==============================] - 1s 1us/step - loss: 0.6110 - acc: 0.6942 - val_loss: 0.8190 - val_acc: 0.2783\n",
      "Epoch 9/10\n",
      "541134/541134 [==============================] - 1s 1us/step - loss: 0.6108 - acc: 0.6942 - val_loss: 0.8188 - val_acc: 0.2789\n",
      "Epoch 10/10\n",
      "541134/541134 [==============================] - 1s 1us/step - loss: 0.6107 - acc: 0.6942 - val_loss: 0.8185 - val_acc: 0.2796\n"
     ]
    }
   ],
   "source": [
    "#training\n",
    "loss_values=np.array([0])\n",
    "vali_loss=np.array([0])\n",
    "for i in range(20):\n",
    "    print(i)\n",
    "    rand_arr = np.arange(x_train_up.shape[0]) \n",
    "    np.random.shuffle(rand_arr)\n",
    "    ran_x_train_up = x_train_up[rand_arr[0:lenth_pru]]\n",
    "    ran_y_train_up = y_train_up[rand_arr[0:lenth_pru]]\n",
    "    x_train = np.vstack((ran_x_train_up,x_train_p))\n",
    "    y_train = np.vstack((ran_y_train_up,y_train_p))\n",
    "    cost = nn.fit(x_train, y_train, epochs=10, batch_size=60000, validation_data=(x_test, y_test), verbose=1)\n",
    "    loss_values = np.hstack((loss_values,cost.history['loss']))\n",
    "    vali_loss = np.hstack((vali_loss,cost.history['val_loss']))"
   ]
  },
  {
   "cell_type": "code",
   "execution_count": 14,
   "metadata": {},
   "outputs": [
    {
     "name": "stdout",
     "output_type": "stream",
     "text": [
      "Weights (coefficients): ['0.38082656', '-2.88145518', '1.21349680']\n",
      "Bias (intercept): 0.61783278\n"
     ]
    }
   ],
   "source": [
    "# weights and bias\n",
    "weights, bias = nn.layers[0].get_weights()\n",
    "\n",
    "# Flatten weights to 1D array and format each element to 8 decimal places\n",
    "formatted_weights = [\"{:.8f}\".format(w) for w in weights.flatten()]\n",
    "formatted_bias = \"{:.8f}\".format(bias[0])\n",
    "\n",
    "# Print weights and bias\n",
    "print(\"Weights (coefficients):\", formatted_weights)\n",
    "print(\"Bias (intercept):\", formatted_bias)"
   ]
  },
  {
   "cell_type": "code",
   "execution_count": 15,
   "metadata": {
    "ExecuteTime": {
     "end_time": "2020-01-27T07:25:55.156279Z",
     "start_time": "2020-01-27T07:25:54.869805Z"
    }
   },
   "outputs": [
    {
     "data": {
      "image/png": "[encoded data removed]",
      "text/plain": [
       "<Figure size 432x288 with 1 Axes>"
      ]
     },
     "metadata": {
      "needs_background": "light"
     },
     "output_type": "display_data"
    }
   ],
   "source": [
    "#plot loss function\n",
    "fig,ax = plt.subplots()\n",
    "plt.rcParams['figure.dpi'] = 300\n",
    "plt.rcParams['savefig.dpi'] = 300\n",
    "epochs = range(1, len(loss_values)+1)\n",
    "plt.plot(epochs, loss_values, label='Training Loss',linewidth=2.0)\n",
    "plt.plot(epochs, vali_loss, label='Test Loss',linewidth=2.0)\n",
    "plt.rcParams['font.size'] = 18\n",
    "plt.xlabel('Epochs',fontsize=16, fontweight='bold')\n",
    "plt.ylabel('Loss',fontsize=16, fontweight='bold')\n",
    "for axis in ['top','bottom','left','right']:\n",
    "    ax.spines[axis].set_linewidth(1.5)\n",
    "plt.xlim(1, epochs[-1])\n",
    "plt.ylim(0, 1)\n",
    "plt.xticks(fontsize=16)\n",
    "plt.yticks(fontsize=16)\n",
    "plt.legend()\n",
    "linewidth=10\n",
    "plt.show()"
   ]
  },
  {
   "cell_type": "code",
   "execution_count": 16,
   "metadata": {},
   "outputs": [
    {
     "name": "stdout",
     "output_type": "stream",
     "text": [
      "0.6106557381221971\n",
      "0.8184893554191236\n"
     ]
    }
   ],
   "source": [
    "print(loss_values[-1])\n",
    "print(vali_loss[-1])"
   ]
  },
  {
   "cell_type": "code",
   "execution_count": 17,
   "metadata": {
    "ExecuteTime": {
     "end_time": "2020-01-27T07:25:58.010129Z",
     "start_time": "2020-01-27T07:25:56.957061Z"
    },
    "scrolled": false
   },
   "outputs": [
    {
     "name": "stdout",
     "output_type": "stream",
     "text": [
      "(1043292, 1)\n",
      "[0.83041024]\n",
      "[0.23414417]\n"
     ]
    }
   ],
   "source": [
    "y_pred = nn.predict(x_test)\n",
    "print(np.shape(y_pred))\n",
    "print(y_pred.max(axis=0))\n",
    "print(y_pred.min(axis=0))"
   ]
  },
  {
   "cell_type": "code",
   "execution_count": 18,
   "metadata": {
    "ExecuteTime": {
     "end_time": "2020-01-27T07:26:00.528573Z",
     "start_time": "2020-01-27T07:26:00.519861Z"
    }
   },
   "outputs": [
    {
     "name": "stdout",
     "output_type": "stream",
     "text": [
      "[0.2870875]\n",
      "[0.]\n"
     ]
    }
   ],
   "source": [
    "index = 4\n",
    "print(y_pred[index])\n",
    "print(y_test[index])"
   ]
  },
  {
   "cell_type": "code",
   "execution_count": 19,
   "metadata": {},
   "outputs": [],
   "source": [
    "output\n",
    "np.savetxt('output_a1.txt',y_pred)"
   ]
  }
 ],
 "metadata": {
  "kernelspec": {
   "display_name": "Python 3",
   "language": "python",
   "name": "python3"
  },
  "language_info": {
   "codemirror_mode": {
    "name": "ipython",
    "version": 3
   },
   "file_extension": ".py",
   "mimetype": "text/x-python",
   "name": "python",
   "nbconvert_exporter": "python",
   "pygments_lexer": "ipython3",
   "version": "3.6.13"
  },
  "latex_envs": {
   "LaTeX_envs_menu_present": true,
   "autoclose": false,
   "autocomplete": true,
   "bibliofile": "biblio.bib",
   "cite_by": "apalike",
   "current_citInitial": 1,
   "eqLabelWithNumbers": true,
   "eqNumInitial": 1,
   "hotkeys": {
    "equation": "Ctrl-E",
    "itemize": "Ctrl-I"
   },
   "labels_anchors": false,
   "latex_user_defs": false,
   "report_style_numbering": false,
   "user_envs_cfg": false
  },
  "varInspector": {
   "cols": {
    "lenName": 16,
    "lenType": 16,
    "lenVar": 40
   },
   "kernels_config": {
    "python": {
     "delete_cmd_postfix": "",
     "delete_cmd_prefix": "del ",
     "library": "var_list.py",
     "varRefreshCmd": "print(var_dic_list())"
    },
    "r": {
     "delete_cmd_postfix": ") ",
     "delete_cmd_prefix": "rm(",
     "library": "var_list.r",
     "varRefreshCmd": "cat(var_dic_list()) "
    }
   },
   "types_to_exclude": [
    "module",
    "function",
    "builtin_function_or_method",
    "instance",
    "_Feature"
   ],
   "window_display": false
  }
 },
 "nbformat": 4,
 "nbformat_minor": 2
}
